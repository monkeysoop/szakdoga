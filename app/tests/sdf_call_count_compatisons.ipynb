{
 "cells": [
  {
   "cell_type": "code",
   "execution_count": null,
   "metadata": {},
   "outputs": [],
   "source": [
    "import os\n",
    "import cv2\n",
    "import matplotlib.pyplot as plt"
   ]
  },
  {
   "cell_type": "code",
   "execution_count": null,
   "metadata": {},
   "outputs": [],
   "source": [
    "sdf_calls_path = os.path.join(\"benchmarks\", \"performance\")\n",
    "\n",
    "naive_folder = os.path.join(sdf_calls_path, \"naive\")\n",
    "relaxed_folder = os.path.join(sdf_calls_path, \"relaxed\")\n",
    "enhanced_folder = os.path.join(sdf_calls_path, \"enhanced\")\n",
    "cone_folder = os.path.join(sdf_calls_path, \"cone\")\n",
    "\n",
    "if (not (os.path.isdir(naive_folder) and os.path.isdir(relaxed_folder) and os.path.isdir(enhanced_folder) and os.path.isdir(cone_folder))):\n",
    "    print(\"couldn't find/open the necesseary directories\")"
   ]
  },
  {
   "cell_type": "code",
   "execution_count": null,
   "metadata": {},
   "outputs": [],
   "source": [
    "benchmark_filenames = {}\n",
    "\n",
    "for dir_name in os.listdir(sdf_calls_path):\n",
    "    sub_dir_path = os.path.join(sdf_calls_path, dir_name)\n",
    "    if (os.path.isdir(sub_dir_path)):\n",
    "        benchmark_filenames[dir_name] = os.listdir(sub_dir_path)"
   ]
  },
  {
   "cell_type": "code",
   "execution_count": null,
   "metadata": {},
   "outputs": [],
   "source": [
    "benchmark_images = {}\n",
    "\n",
    "for method, filenames in benchmark_filenames.items():\n",
    "    folder_path = os.path.join(sdf_calls_path, method)\n",
    "\n",
    "    benchmark_images[method] = []\n",
    "    for filename in filenames:\n",
    "        benchmark_file_path = os.path.join(folder_path, filename)\n",
    "        benchmark_image_bgr = cv2.imread(benchmark_file_path)\n",
    "        max_iteration_count = int((os.path.basename(benchmark_file_path).split(\".\")[-2]).split(\"_\")[-1])\n",
    "        benchmark_images[method].append((max_iteration_count, benchmark_image_bgr))\n",
    "\n",
    "    benchmark_images[method].sort(key=lambda x: x[0])\n",
    "        "
   ]
  },
  {
   "cell_type": "code",
   "execution_count": null,
   "metadata": {},
   "outputs": [],
   "source": [
    "h = len(benchmark_images)\n",
    "w = max([len(images) for _, images in benchmark_images.items()])\n",
    "\n",
    "fig = plt.figure(figsize=(30, 10))\n",
    "\n",
    "for y, (method, images) in enumerate(benchmark_images.items()):\n",
    "    print(method, end=\": \")\n",
    "    \n",
    "    for x, (max_iteration_count, image_bgr) in enumerate(images):\n",
    "        image_rgb = cv2.cvtColor(image_bgr, cv2.COLOR_BGR2RGB)\n",
    "        image_gray = cv2.cvtColor(image_bgr, cv2.COLOR_BGR2GRAY)\n",
    "        \n",
    "        sdf_count_sum = int((cv2.sumElems(image_gray)[0] / 255.0) * max_iteration_count)\n",
    "\n",
    "        avg_sdf_count_per_pixel = sdf_count_sum / (image_gray.shape[0] * image_gray.shape[1])\n",
    "        print(image_gray.shape)\n",
    "\n",
    "        print(round(avg_sdf_count_per_pixel, 2), end=\" \")\n",
    "\n",
    "        index = y * w + x + 1\n",
    "        fig.add_subplot(h, w, index)\n",
    "        plt.imshow(image_rgb)\n",
    "    \n",
    "    print()\n",
    "\n",
    "plt.show()"
   ]
  }
 ],
 "metadata": {
  "kernelspec": {
   "display_name": "Python 3",
   "language": "python",
   "name": "python3"
  },
  "language_info": {
   "codemirror_mode": {
    "name": "ipython",
    "version": 3
   },
   "file_extension": ".py",
   "mimetype": "text/x-python",
   "name": "python",
   "nbconvert_exporter": "python",
   "pygments_lexer": "ipython3",
   "version": "3.10.12"
  }
 },
 "nbformat": 4,
 "nbformat_minor": 2
}
